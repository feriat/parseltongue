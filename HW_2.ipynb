{
 "cells": [
  {
   "cell_type": "markdown",
   "metadata": {},
   "source": [
    "Перед сдачей обязательно убедитесь, что всё работает как надо. Во-первых, **перезапустите ядро и запустите все ячейки** (меню Kernel$\\rightarrow$Restart & Run All).\n",
    "\n",
    "Укажите ваше имя и имена тех, с кем вместе вы решали это ДЗ. Проверьте, что во всех ячейках есть ответы."
   ]
  },
  {
   "cell_type": "code",
   "execution_count": null,
   "metadata": {},
   "outputs": [],
   "source": [
    "NAME = \"\"\n",
    "COLLABORATORS = \"\""
   ]
  },
  {
   "cell_type": "markdown",
   "metadata": {},
   "source": [
    "---"
   ]
  },
  {
   "cell_type": "markdown",
   "metadata": {
    "deletable": false,
    "editable": false,
    "nbgrader": {
     "cell_type": "markdown",
     "checksum": "f442a02d247cb38824fb934f9ad58cf8",
     "grade": false,
     "grade_id": "cell-64d5f3b31a807ce5",
     "locked": true,
     "schema_version": 3,
     "solution": false,
     "task": false
    }
   },
   "source": [
    "# Домашнее задание 2\n",
    "Дедлайн 29.10.2019 23:59"
   ]
  },
  {
   "cell_type": "markdown",
   "metadata": {},
   "source": [
    "## Задание 1(1 балл)\n",
    "\n",
    "Напишите функцию, которая принимает список, и возвращает новый список, состоящий из уникальных элементов данного списка. Порядок элементов должен сохраниться\n",
    "\n",
    "__________________________________________\n",
    "\n",
    "**Пример входных данных:**  \n",
    "list_no_dubs([8, 'a', 154, 8, 12])\n",
    "\n",
    "**Пример выходных данных:**  \n",
    "[8, 'a', 154, 12]"
   ]
  },
  {
   "cell_type": "code",
   "execution_count": null,
   "metadata": {
    "deletable": false,
    "nbgrader": {
     "cell_type": "code",
     "checksum": "98c3afe727d76218393598d54b141b5a",
     "grade": false,
     "grade_id": "cell-25d318e1303cb6d8",
     "locked": false,
     "schema_version": 3,
     "solution": true,
     "task": false
    }
   },
   "outputs": [],
   "source": [
    "def list_no_dubs(lst):\n",
    "    # YOUR CODE HERE\n",
    "    raise NotImplementedError()"
   ]
  },
  {
   "cell_type": "code",
   "execution_count": null,
   "metadata": {
    "deletable": false,
    "editable": false,
    "nbgrader": {
     "cell_type": "code",
     "checksum": "4ce7bfe972f2965feb3602c4d69ac683",
     "grade": true,
     "grade_id": "cell-3582972d2a678fab",
     "locked": true,
     "points": 1,
     "schema_version": 3,
     "solution": false,
     "task": false
    }
   },
   "outputs": [],
   "source": [
    "assert list_no_dubs([8, 'a', 154, 8, 12]) == [8, 'a', 154, 12]"
   ]
  },
  {
   "cell_type": "markdown",
   "metadata": {
    "deletable": false,
    "editable": false,
    "nbgrader": {
     "cell_type": "markdown",
     "checksum": "5ac07aa8f18834806a62456c08527bfc",
     "grade": false,
     "grade_id": "cell-088dff9ed94d9a4e",
     "locked": true,
     "schema_version": 3,
     "solution": false,
     "task": false
    }
   },
   "source": [
    "## Задание 2 (2 баллa)\n",
    "\n",
    "Напишите функцию, которая переводит римские цифры в арабские. \n",
    "\n",
    "Напомним, как работать с римскими цифрами. Каждая буква обозначает свое число\n",
    "    \n",
    "* I: 1\n",
    "* V: 5\n",
    "* X: 10\n",
    "* L: 50\n",
    "* C: 100\n",
    "* D: 500\n",
    "* M: 1000\n",
    "\n",
    "Кроме этого, есть **особый случай**, когда цифра меньшего порядка идет до цифры большего порядка. Это означает, что данное число вычитается из предыдущего. Например, число 8 можно записать как VIII, а число 9 уже записывается как IX, а **не** XIIII.\n",
    "\n",
    "Арабские буквы могут быть только заглавные и только из списка выше, проверять это не нужно.\n",
    "\n",
    "Пустая строка должна возвращать 0.\n",
    "\n",
    "__________________________________________\n",
    "\n",
    "**Пример входных данных:**  \n",
    "to_arabic(\"IIX\")\n",
    "\n",
    "**Пример выходных данных:**  \n",
    "8"
   ]
  },
  {
   "cell_type": "code",
   "execution_count": null,
   "metadata": {
    "deletable": false,
    "nbgrader": {
     "cell_type": "code",
     "checksum": "7126b737a7b87bbafddaad75d83d27ae",
     "grade": false,
     "grade_id": "cell-c94e27fccd166aa7",
     "locked": false,
     "schema_version": 3,
     "solution": true,
     "task": false
    }
   },
   "outputs": [],
   "source": [
    "def to_arabic(number):\n",
    "    # YOUR CODE HERE\n",
    "    raise NotImplementedError()"
   ]
  },
  {
   "cell_type": "code",
   "execution_count": null,
   "metadata": {
    "deletable": false,
    "editable": false,
    "nbgrader": {
     "cell_type": "code",
     "checksum": "920ce9480833d3eed9c24ba2c4258e2c",
     "grade": true,
     "grade_id": "cell-173b15310162d38a",
     "locked": true,
     "points": 2,
     "schema_version": 3,
     "solution": false,
     "task": false
    }
   },
   "outputs": [],
   "source": [
    "assert to_arabic('I') == 1\n",
    "assert to_arabic('III') == 3"
   ]
  },
  {
   "cell_type": "markdown",
   "metadata": {
    "deletable": false,
    "editable": false,
    "nbgrader": {
     "cell_type": "markdown",
     "checksum": "72b4ab1b2d8efefb8392ee653ab275a0",
     "grade": false,
     "grade_id": "cell-d16a7d6ad42b737b",
     "locked": true,
     "schema_version": 3,
     "solution": false,
     "task": false
    }
   },
   "source": [
    "## Задание 3 (2 баллa)\n",
    "\n",
    "Напишите функцию, которая переводит арабские цифры в римские. Подаваемое число не может быть больше 3999.\n",
    "\n",
    "*HINT*: в [русской википедии](https://ru.wikipedia.org/wiki/%D0%A0%D0%B8%D0%BC%D1%81%D0%BA%D0%B8%D0%B5_%D1%86%D0%B8%D1%84%D1%80%D1%8B) вы можете найти полезную подсказку про то, какие бывают случаи \"вычитания\" в римских цифрах.\n",
    "\n",
    "\n",
    "__________________________________________\n",
    "\n",
    "**Пример входных данных:**  \n",
    "to_roman(8)\n",
    "\n",
    "**Пример выходных данных:**  \n",
    "IIX"
   ]
  },
  {
   "cell_type": "code",
   "execution_count": null,
   "metadata": {
    "deletable": false,
    "nbgrader": {
     "cell_type": "code",
     "checksum": "798c6baef2656e905c780476c84ec0f3",
     "grade": true,
     "grade_id": "cell-3bde515a28696809",
     "locked": false,
     "points": 0,
     "schema_version": 3,
     "solution": true,
     "task": false
    }
   },
   "outputs": [],
   "source": [
    "def to_roman(number):\n",
    "    # YOUR CODE HERE\n",
    "    raise NotImplementedError()"
   ]
  },
  {
   "cell_type": "code",
   "execution_count": null,
   "metadata": {
    "deletable": false,
    "editable": false,
    "nbgrader": {
     "cell_type": "code",
     "checksum": "cedf255ed780da1611131092b7f0a6d1",
     "grade": true,
     "grade_id": "cell-41959e58df00f84c",
     "locked": true,
     "points": 2,
     "schema_version": 3,
     "solution": false,
     "task": false
    }
   },
   "outputs": [],
   "source": [
    "assert to_roman(1) == 'I'\n",
    "assert to_roman(3) == 'III'"
   ]
  },
  {
   "cell_type": "markdown",
   "metadata": {},
   "source": [
    "## Задание 4 (1 балл)\n",
    "\n",
    "Напишите программу, которая принимает 5 чисел, и возвращает медиану этих чисел: два числа должны быть больше данного, а два меньше.\n",
    "   \n",
    "*Дополнительный балл:* используйте менее 7 сравнений.\n",
    "    \n",
    "\n",
    "__________________________________________\n",
    "\n",
    "**Пример входных данных:**  \n",
    "median(1,4,2,5,3)\n",
    "\n",
    "**Пример выходных данных:**  \n",
    "3"
   ]
  },
  {
   "cell_type": "code",
   "execution_count": null,
   "metadata": {
    "deletable": false,
    "nbgrader": {
     "cell_type": "code",
     "checksum": "01f15ed1b16f2ef995052b14a806edae",
     "grade": false,
     "grade_id": "cell-0cc92accc9cf8d95",
     "locked": false,
     "schema_version": 3,
     "solution": true,
     "task": false
    }
   },
   "outputs": [],
   "source": [
    "def median(a,b,c,d,e):\n",
    "    # YOUR CODE HERE\n",
    "    raise NotImplementedError()"
   ]
  },
  {
   "cell_type": "code",
   "execution_count": null,
   "metadata": {
    "deletable": false,
    "editable": false,
    "nbgrader": {
     "cell_type": "code",
     "checksum": "0062abb32100e54e2dfa1dae55509cfb",
     "grade": true,
     "grade_id": "cell-a117855cb6bb3737",
     "locked": true,
     "points": 1,
     "schema_version": 3,
     "solution": false,
     "task": false
    }
   },
   "outputs": [],
   "source": [
    "assert median(1,7,546,5,2) == 5"
   ]
  },
  {
   "cell_type": "markdown",
   "metadata": {
    "deletable": false,
    "editable": false,
    "nbgrader": {
     "cell_type": "markdown",
     "checksum": "6d5ec8506c08b442a04f693b66dd1e15",
     "grade": false,
     "grade_id": "cell-fb685de1d3bd1bf6",
     "locked": true,
     "schema_version": 3,
     "solution": false,
     "task": false
    }
   },
   "source": [
    "## Задание 5 (2 балла)\n",
    "\n",
    "Вы находитесь на шоу \"Давай договоримся!\". Ведущий показывает вам три закрытые двери. За одной из них шикарный приз, а за двумя другими пусто. Ведущий знает где находится приз, а вы нет. Вы выбираете одну из дверей, но не открываете её! Далее ведущий, знающий, где находится приз, открывает одну из дверей без приза, и предлагает вам выбор: либо **изменить** свой выбор, либо **остаться при своем**.\n",
    "\n",
    "Какая из двух стратегий (\"поменять дверь\" и \"остаться при своем\") будет иметь большую вероятность победы?\n",
    "\n",
    "Напишите программу, которая симулирует обе стратегии. Через `input` программа должна принимать число `n` -- количество симуляций. Программа должна `n` раз сыграть первую стратегию, и `n` раз сыграть вторую стратегию.\n",
    "\n",
    "В задаче вам может понадобиться сгенерить случайное число. Это можно сделать при помощи функции `random.randint`.\n",
    "\n",
    "```\n",
    "from random import randint\n",
    "\n",
    "randint(0, 2)\n",
    "# возвращает 0, 1, 2 равновероятно\n",
    "```"
   ]
  },
  {
   "cell_type": "code",
   "execution_count": null,
   "metadata": {
    "deletable": false,
    "nbgrader": {
     "cell_type": "code",
     "checksum": "ba470e47668dd1079b56ef47f9525608",
     "grade": true,
     "grade_id": "cell-ed004b8359390ff8",
     "locked": false,
     "points": 2,
     "schema_version": 3,
     "solution": true,
     "task": false
    }
   },
   "outputs": [],
   "source": [
    "# YOUR CODE HERE\n",
    "raise NotImplementedError()"
   ]
  },
  {
   "cell_type": "code",
   "execution_count": null,
   "metadata": {},
   "outputs": [],
   "source": []
  },
  {
   "cell_type": "markdown",
   "metadata": {},
   "source": [
    "## Задание 6 (2 балла)\n",
    "\n",
    "Напишите код, иллюстрирующий простую модель роста популяции, которую можно встретить в исследованиях рыб в водоеме, бактерий в чашке Петри. Предположим популяция может быть между 0 (полное вымирание) и 1 (макксимальная популяция). Если в момент времени `t` популяция равна $x$, то в момент времени `t+1` популяция будет равна $r \\cdot x \\cdot (1-x)$, где $r$ это *параметр плодовитости*, обозначающий скорость роста. Начнем с небольшой популяции в $x = 0.01$, исследуйте модель для разных значений $r$. Для каких значений $r$ размер популяции стабилизируется в точке $x = 1-1/r$? Что вы можете сказать о популяции, когда $r$ равно 3.5? 3.8? 5?"
   ]
  },
  {
   "cell_type": "code",
   "execution_count": null,
   "metadata": {
    "deletable": false,
    "nbgrader": {
     "cell_type": "code",
     "checksum": "a3e0afec11d77a0fcdec17ac32344ff0",
     "grade": true,
     "grade_id": "cell-cc46ab7499ff1917",
     "locked": false,
     "points": 2,
     "schema_version": 3,
     "solution": true,
     "task": false
    }
   },
   "outputs": [],
   "source": [
    "# YOUR CODE HERE\n",
    "raise NotImplementedError()"
   ]
  },
  {
   "cell_type": "code",
   "execution_count": null,
   "metadata": {},
   "outputs": [],
   "source": []
  },
  {
   "cell_type": "code",
   "execution_count": null,
   "metadata": {},
   "outputs": [],
   "source": []
  },
  {
   "cell_type": "code",
   "execution_count": null,
   "metadata": {},
   "outputs": [],
   "source": []
  }
 ],
 "metadata": {
  "kernelspec": {
   "display_name": "Python 3",
   "language": "python",
   "name": "python3"
  },
  "language_info": {
   "codemirror_mode": {
    "name": "ipython",
    "version": 3
   },
   "file_extension": ".py",
   "mimetype": "text/x-python",
   "name": "python",
   "nbconvert_exporter": "python",
   "pygments_lexer": "ipython3",
   "version": "3.6.7"
  }
 },
 "nbformat": 4,
 "nbformat_minor": 2
}
